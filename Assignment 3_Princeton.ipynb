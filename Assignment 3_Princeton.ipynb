{
 "cells": [
  {
   "cell_type": "markdown",
   "metadata": {
    "id": "kJ6ssXaGJfGN"
   },
   "source": [
    "## CIND830 - Python Programming for Data Science  \n",
    "### Assignment 3 (10% of the final grade) \n",
    "### Due on August 08, 2022 11:59 PM "
   ]
  },
  {
   "cell_type": "markdown",
   "metadata": {
    "id": "UWjXw7DsJfGP"
   },
   "source": [
    "*****\n",
    "This is a Jupyter Notebook document that extends a simple formatting syntax for authoring HTML and PDF. Review [this](https://jupyter-notebook.readthedocs.io/en/stable/notebook.html) website for more details on using Jupyter Notebooks.\n",
    "\n",
    "Use the JupyterHub server on the Google Cloud Platform, provided by your designated instructor, for this assignment. Ensure using **Python 3.7** release or higher then complete the assignment by inserting your Python code wherever seeing the string `#INSERT YOUR ANSWER HERE.`\n",
    "\n",
    "When you click the `File` button, from the top navigation bar, then select `Export Notebook to HTML`, an HTML document will be generated that includes both the assignment content and the output of any embedded Python code chunks.\n",
    "\n",
    "Use [these](https://www.ryerson.ca/courses/students/tutorials/assignments/) guidelines to submit **both** the IPYNB and the exported file (HTML). Failing to submit both files will be subject to mark deduction.\n",
    "\n",
    "Please be advised that you cannot get more than 100% in this assignment, and the **BONUS** question (if there is any) will only be graded if all other questions have been submitted."
   ]
  },
  {
   "cell_type": "markdown",
   "metadata": {
    "id": "1D2_0DqQwlkg"
   },
   "source": [
    "### **Question 1  [30 pts]**:\n",
    "The following two algorithms sort a list of integers in ascending order.\n",
    "```\n",
    "def Algorithm_1(lyst):\n",
    "    i = 0\n",
    "    while i < len(lyst) - 1:         \n",
    "        minIndex = i                \n",
    "        j = i + 1\n",
    "        while j < len(lyst):         \n",
    "            if lyst[minIndex] > lyst[j]:\n",
    "                minIndex = j\n",
    "            j += 1\n",
    "        if minIndex != i:            \n",
    "            lyst[minIndex], lyst[i] = lyst[i], lyst[minIndex]\n",
    "        i += 1\n",
    "    return(lyst)\n",
    "```\n",
    "\n",
    "```\n",
    "def Algorithm_2(lyst):\n",
    "    n = len(lyst)\n",
    "    while n > 1: \n",
    "        i = 1 \n",
    "        while i < n:\n",
    "            if lyst[i] < lyst[i - 1]: \n",
    "                lyst[i], lyst[i - 1] = lyst[i-1], lyst[i]\n",
    "            i += 1\n",
    "        n -= 1\n",
    "    return(lyst)\n",
    "```\n",
    "\n"
   ]
  },
  {
   "cell_type": "markdown",
   "metadata": {
    "id": "lZ4EnFmSzP_r"
   },
   "source": [
    "**a)**  **[15 pts]** Modify each algorithm to display the total number of swap operatioins. For example, if the user called `Algorithm_1` with a list of `[5, 6, 8, 3, 2, 1, 9, 4]` the number of swaps would be `6`, however the output would be `16` when calling `Algorithm_2` with the same list."
   ]
  },
  {
   "cell_type": "code",
   "execution_count": 17,
   "metadata": {
    "colab": {
     "base_uri": "https://localhost:8080/"
    },
    "execution": {
     "iopub.execute_input": "2022-06-02T20:43:50.069Z",
     "iopub.status.busy": "2022-06-02T20:43:50.062Z",
     "iopub.status.idle": "2022-06-02T20:43:50.077Z",
     "shell.execute_reply": "2022-06-02T20:43:49.974Z"
    },
    "id": "GuhHlv60wk0w",
    "outputId": "9cbc189c-d199-4cb0-9028-ea17f4e7282f"
   },
   "outputs": [
    {
     "name": "stdout",
     "output_type": "stream",
     "text": [
      "The total number of swaps using Algorithm_1 is 6\n",
      "The total number of swaps using Algorithm_2 is 16\n"
     ]
    }
   ],
   "source": [
    "def Algorithm_1(lyst):\n",
    "    swapCounter=0\n",
    "    i = 0\n",
    "    while i < len(lyst) - 1:         \n",
    "        minIndex = i                \n",
    "        j = i + 1\n",
    "        while j < len(lyst):         \n",
    "            if lyst[minIndex] > lyst[j]:\n",
    "                minIndex = j\n",
    "            j += 1\n",
    "        if minIndex != i:            \n",
    "            lyst[minIndex], lyst[i] = lyst[i], lyst[minIndex]\n",
    "            swapCounter+=1\n",
    "        i += 1\n",
    "    return(swapCounter)\n",
    "\n",
    "swapAlg1 = Algorithm_1([5, 6, 8, 3, 2, 1, 9, 4])\n",
    "print(\"The total number of swaps using Algorithm_1 is\",swapAlg1)\n",
    "\n",
    "def Algorithm_2(lyst):\n",
    "    swapCounter=0\n",
    "    n = len(lyst)\n",
    "    while n > 1: \n",
    "        i = 1 \n",
    "        while i < n:\n",
    "            if lyst[i] < lyst[i - 1]: \n",
    "                lyst[i], lyst[i - 1] = lyst[i-1], lyst[i]\n",
    "                swapCounter+=1\n",
    "            i += 1\n",
    "        n -= 1\n",
    "    return(swapCounter)\n",
    "\n",
    "swapAlg2 = Algorithm_2([5, 6, 8, 3, 2, 1, 9, 4])\n",
    "print(\"The total number of swaps using Algorithm_2 is\",swapAlg2)"
   ]
  },
  {
   "cell_type": "markdown",
   "metadata": {
    "id": "wAPDFAzA63Vs"
   },
   "source": [
    "**b)**  **[15 pts]** Would you conclude that `Algorithm_1` is more efficient than `Algorithm_2`?  Justify your answer."
   ]
  },
  {
   "cell_type": "code",
   "execution_count": null,
   "metadata": {
    "colab": {
     "base_uri": "https://localhost:8080/",
     "height": 105
    },
    "execution": {
     "iopub.execute_input": "2022-06-02T20:43:50.099Z",
     "iopub.status.busy": "2022-06-02T20:43:50.089Z",
     "iopub.status.idle": "2022-06-02T20:43:50.107Z",
     "shell.execute_reply": "2022-06-02T20:43:49.983Z"
    },
    "id": "LxINBa-8993I",
    "outputId": "330a6bfb-38cb-4b37-90e4-be9e63cbb910"
   },
   "outputs": [
    {
     "data": {
      "application/vnd.google.colaboratory.intrinsic+json": {
       "type": "string"
      },
      "text/plain": [
       "\"Yes, Algorithm_1 is more efficient than Algorithm_2.\\n\\nLet's consider the worst-case scenario where the values of the list are in descending order. (Eg:- [7,6,5,4,3,2,1])\\nBoth the algorithms has the same number of comparisions for a given set. i.e. n*(n-1)/2 where n is the size of the list.\\nBut if you look at the number of swaps, Algorithm_1 performs n/2 number of swaps. Whereas Algorithm_2 performs n*(n-1)/2 swaps.\\nThis means Algorithm_1 has to only has (n/2) + (n*(n-1)/2) steps to execute which is lesser than Algorithm_2 which has to perform n*(n-1) steps.\\n\\nConsidering the above points, Algorithm_1 takes less amount of time for execution. Hence it is efficient.\""
      ]
     },
     "execution_count": 8,
     "metadata": {},
     "output_type": "execute_result"
    }
   ],
   "source": [
    "'''Yes, Algorithm_1 is more efficient than Algorithm_2.\n",
    "\n",
    "Let's consider the worst-case scenario where the values of the list are in descending order. (Eg:- [7,6,5,4,3,2,1])\n",
    "Both the algorithms has the same number of comparisions for a given set. i.e. n*(n-1)/2 where n is the size of the list.\n",
    "But if you look at the number of swaps, Algorithm_1 performs n/2 number of swaps. Whereas Algorithm_2 performs n*(n-1)/2 swaps.\n",
    "This means Algorithm_1 only has (n/2) + (n*(n-1)/2) steps to execute which is lesser than Algorithm_2 which has to perform n*(n-1) steps.\n",
    "\n",
    "Considering the above points, Algorithm_1 takes less amount of time for execution. Hence it is efficient.'''"
   ]
  },
  {
   "cell_type": "markdown",
   "metadata": {
    "id": "hHNHnkO4AOBh"
   },
   "source": [
    "*****"
   ]
  },
  {
   "cell_type": "markdown",
   "metadata": {
    "id": "Z5lAKTm6SWNs"
   },
   "source": [
    "### **Question 2  [40 pts]**:\n",
    "\n",
    "Assume the following class implements the STACK abstract data type (ADT) using the array ADT.\n",
    "\n",
    "```\n",
    "class aStack(iArray):\n",
    "    def __init__(self, capacity = 5):\n",
    "        self._items = iArray(capacity)\n",
    "        self._top = -1\n",
    "        self._size = 0 \n",
    "    def push(self, newItem):\n",
    "        self._top += 1\n",
    "        self._size += 1\n",
    "        self._items[self._top] = newItem\n",
    "    def pop(self):\n",
    "        oldItem = self._items[self._top]\n",
    "        self._items[self._top] = None\n",
    "        self._top -= 1\n",
    "        self._size -= 1\n",
    "        return oldItem\n",
    "    def peek(self):\n",
    "        return self._items[self._top]\n",
    "    def __len__(self):\n",
    "        return self._size\n",
    "    def __str__(self):\n",
    "        result = ' '\n",
    "        for i in range(len(self)):\n",
    "            result += str(self._items[i]) + ' '\n",
    "        return result\n",
    "```\n"
   ]
  },
  {
   "cell_type": "markdown",
   "metadata": {
    "id": "nkZH7oR39oPj"
   },
   "source": [
    "**a) [10 pts]** Emulate the stack behavior using the Python list data structure rather than the Arrary ADT."
   ]
  },
  {
   "cell_type": "code",
   "execution_count": 17,
   "metadata": {
    "colab": {
     "base_uri": "https://localhost:8080/"
    },
    "execution": {
     "iopub.execute_input": "2022-06-02T20:43:50.127Z",
     "iopub.status.busy": "2022-06-02T20:43:50.119Z",
     "iopub.status.idle": "2022-06-02T20:43:50.137Z",
     "shell.execute_reply": "2022-06-02T20:43:49.992Z"
    },
    "id": "e7s_fWLNyi3h",
    "jupyter": {
     "outputs_hidden": false,
     "source_hidden": false
    },
    "nteract": {
     "transient": {
      "deleting": false
     }
    },
    "outputId": "acb499a6-d27f-4230-c1db-56d8fe85ded6"
   },
   "outputs": [
    {
     "name": "stdout",
     "output_type": "stream",
     "text": [
      "Pushing three items into the Stack & then Displaying the Stack:\n",
      "1 2 3  \n",
      "\n",
      "Popping out one item from the Stack:\n",
      "3 \n",
      "\n",
      "Using Peek Method:\n",
      "2 \n",
      "\n",
      "Using len Method:\n",
      "2 \n",
      "\n",
      "Using str Method:\n",
      "1 2  \n",
      "\n"
     ]
    }
   ],
   "source": [
    "class aStack():\n",
    "    def __init__(self, capacity = 5):\n",
    "        self._items = []\n",
    "        for i in range(capacity):\n",
    "          self._items.append(None)\n",
    "        self._top = -1\n",
    "        self._size = 0\n",
    "\n",
    "    def push(self, newItem):\n",
    "        self._top += 1\n",
    "        self._size += 1\n",
    "        self._items[self._top]=newItem \n",
    "\n",
    "    def pop(self):\n",
    "        oldItem = self._items[self._top]\n",
    "        self._items[self._top] = None\n",
    "        self._top -= 1\n",
    "        self._size -= 1\n",
    "        return oldItem\n",
    "\n",
    "    def peek(self):\n",
    "        return self._items[self._top]\n",
    "    \n",
    "    def __len__(self):\n",
    "        return self._size\n",
    "    \n",
    "    def __str__(self):\n",
    "        result = ''\n",
    "        for i in range(len(self)):\n",
    "            result += str(self._items[i]) + ' '\n",
    "        return result\n",
    "\n",
    "#Creating a Stack\n",
    "a=aStack()\n",
    "\n",
    "print(\"Pushing three items into the Stack & then Displaying the Stack:\")\n",
    "a.push(1)\n",
    "a.push(2)\n",
    "a.push(3)\n",
    "\n",
    "print(a,\"\\n\")\n",
    "\n",
    "print(\"Popping out one item from the Stack:\")\n",
    "print(a.pop(),\"\\n\")\n",
    "\n",
    "print(\"Using Peek Method:\")\n",
    "print(a.peek(),\"\\n\")\n",
    "\n",
    "print(\"Using len Method:\")\n",
    "print(len(a),\"\\n\")\n",
    "\n",
    "print(\"Using str Method:\")\n",
    "print(str(a),\"\\n\")"
   ]
  },
  {
   "cell_type": "markdown",
   "metadata": {
    "id": "94TqcosX3lii"
   },
   "source": [
    "**b) [15 pts]** Redefine the Stack class methods to push and pop two items rather than one item at a time.\n",
    "\n",
    "For example, if the stack includes numbers from one to ten:\n",
    "`[1, 2, 3, 4, 5, 6, 7, 8, 9, 10]`, then invoking the `pop()` method twice will remove the last four elements and modify the stack elements to be:\n",
    "`[1, 2, 3, 4, 5, 6]`\n",
    "\n"
   ]
  },
  {
   "cell_type": "code",
   "execution_count": 16,
   "metadata": {
    "colab": {
     "base_uri": "https://localhost:8080/"
    },
    "execution": {
     "iopub.execute_input": "2022-06-02T20:43:50.157Z",
     "iopub.status.busy": "2022-06-02T20:43:50.150Z",
     "iopub.status.idle": "2022-06-02T20:43:50.163Z",
     "shell.execute_reply": "2022-06-02T20:43:50.000Z"
    },
    "id": "VM1VhboJSWNs",
    "jupyter": {
     "outputs_hidden": false
    },
    "outputId": "c69043c6-2037-409e-c1b8-85cef726cb8a",
    "pycharm": {
     "name": "#%%\n"
    }
   },
   "outputs": [
    {
     "name": "stdout",
     "output_type": "stream",
     "text": [
      "Using Push method to enter two items in each push & then displaying the Stack:\n",
      "1 2 3 4 5 6 7 8 9 10  \n",
      "\n",
      "Using Pop method to remove two items in each pop & then displaying the Stack:\n",
      "1 2 3 4 5 6 \n"
     ]
    }
   ],
   "source": [
    "class aStack():\n",
    "    def __init__(self, capacity = 5):\n",
    "        self._items = []\n",
    "        for i in range(capacity):\n",
    "          self._items.append(None)\n",
    "        self._top = -1\n",
    "        self._size = 0\n",
    "\n",
    "    def push(self, newItem1, newItem2=None):\n",
    "        if newItem2 == None:\n",
    "          self._top += 1\n",
    "          self._size += 1\n",
    "          self._items[self._top]=newItem1\n",
    "        else:\n",
    "          self._top += 2\n",
    "          self._size += 2\n",
    "          self._items[self._top-1]=newItem1\n",
    "          self._items[self._top]=newItem2\n",
    "\n",
    "    def pop(self):\n",
    "        oldItem1 = self._items[self._top]\n",
    "        oldItem2 = self._items[self._top-1]\n",
    "        self._items[self._top] = None\n",
    "        self._items[self._top-1] = None\n",
    "        self._top -= 2\n",
    "        self._size -= 2\n",
    "        return oldItem1, oldItem2\n",
    "\n",
    "    def peek(self):\n",
    "        return self._items[self._top]\n",
    "    \n",
    "    def __len__(self):\n",
    "        return self._size\n",
    "    \n",
    "    def __str__(self):\n",
    "        result = ''\n",
    "        for i in range(len(self)):\n",
    "            result += str(self._items[i]) + ' '\n",
    "        return result\n",
    "\n",
    "print(\"Using Push method to enter two items in each push & then displaying the Stack:\")\n",
    "b=aStack(10)\n",
    "b.push(1,2)\n",
    "b.push(3,4)\n",
    "b.push(5,6)\n",
    "b.push(7,8)\n",
    "b.push(9,10)\n",
    "print(b,\"\\n\")\n",
    "\n",
    "print(\"Using Pop method to remove two items in each pop & then displaying the Stack:\")\n",
    "b.pop()\n",
    "b.pop()\n",
    "print(b)"
   ]
  },
  {
   "cell_type": "markdown",
   "metadata": {
    "id": "jy3QeiXu3679"
   },
   "source": [
    "**c) [15 pts]** Define and implement a function that reverses the items of a given stack using only the methods defined in the Stack class.\n",
    "\n",
    "For example, if the stack includes the elements from one to ten: `[1, 2, 3, 4, 5, 6, 7, 8, 9, 10]`, then calling the new function will modify the stack elements to be from ten to one: `[10, 9, 8, 7, 6, 5, 4, 3, 2, 1]`"
   ]
  },
  {
   "cell_type": "code",
   "execution_count": 14,
   "metadata": {
    "colab": {
     "base_uri": "https://localhost:8080/"
    },
    "execution": {
     "iopub.execute_input": "2022-06-02T20:43:50.180Z",
     "iopub.status.busy": "2022-06-02T20:43:50.173Z",
     "iopub.status.idle": "2022-06-02T20:43:50.188Z",
     "shell.execute_reply": "2022-06-02T20:43:50.009Z"
    },
    "id": "vvJsYxdmqYHt",
    "outputId": "0610a954-6929-445a-bc9b-7b3e72e0dcc0"
   },
   "outputs": [
    {
     "name": "stdout",
     "output_type": "stream",
     "text": [
      "Creating a new Stack and Pushing numbers from 1 to 10:\n",
      "1 2 3 4 5 6 7 8 9 10  \n",
      "\n",
      "Reversing the Stack:\n",
      "10 9 8 7 6 5 4 3 2 1 \n"
     ]
    }
   ],
   "source": [
    "class aStack():\n",
    "    def __init__(self, capacity = 5):\n",
    "        self._items = []\n",
    "        for i in range(capacity):\n",
    "          self._items.append(None)\n",
    "        self._top = -1\n",
    "        self._size = 0\n",
    "\n",
    "    def push(self, newItem1, newItem2=None):\n",
    "        if newItem2 == None:\n",
    "          self._top += 1\n",
    "          self._size += 1\n",
    "          self._items[self._top]=newItem1\n",
    "        else:\n",
    "          self._top += 2\n",
    "          self._size += 2\n",
    "          self._items[self._top-1]=newItem1\n",
    "          self._items[self._top]=newItem2\n",
    "\n",
    "    def pop(self):\n",
    "        oldItem1 = self._items[self._top]\n",
    "        oldItem2 = self._items[self._top-1]\n",
    "        self._items[self._top] = None\n",
    "        self._items[self._top-1] = None\n",
    "        self._top -= 2\n",
    "        self._size -= 2\n",
    "        return oldItem1, oldItem2\n",
    "\n",
    "    def peek(self):\n",
    "        return self._items[self._top]\n",
    "    \n",
    "    def __len__(self):\n",
    "        return self._size\n",
    "    \n",
    "    def __str__(self):\n",
    "        result = ''\n",
    "        for i in range(len(self)):\n",
    "            result += str(self._items[i]) + ' '\n",
    "        return result\n",
    "\n",
    "    def reverse(self):\n",
    "      temp = []\n",
    "      for i in range(len(self._items),0,-1):\n",
    "        temp.append(self._items[i-1])\n",
    "      self._items=temp\n",
    "\n",
    "print(\"Creating a new Stack and Pushing numbers from 1 to 10:\")\n",
    "c=aStack(10)\n",
    "c.push(1,2)\n",
    "c.push(3,4)\n",
    "c.push(5,6)\n",
    "c.push(7,8)\n",
    "c.push(9,10)\n",
    "print(c,\"\\n\")\n",
    "\n",
    "print(\"Reversing the Stack:\")\n",
    "c.reverse()\n",
    "print(c)"
   ]
  },
  {
   "cell_type": "markdown",
   "metadata": {
    "id": "2IV0N3fJAQfU"
   },
   "source": [
    "*****"
   ]
  },
  {
   "cell_type": "markdown",
   "metadata": {
    "id": "k07397EN8dyu"
   },
   "source": [
    "### **Question 3  [30 pts]**: "
   ]
  },
  {
   "cell_type": "markdown",
   "metadata": {
    "id": "rRiTZiUCyJw8"
   },
   "source": [
    "**a)** **[15 pts]**  Write an algorithm that creates a Ragged Grid with four rows. The first row has 3 positions, the second row has 4 positions, the third row includes 6 positions, and the fourth row contains 1. You can modify the iArray ADT defined below or use any standard library to implement your algorithm.\n",
    "\n",
    "```\n",
    "class iArray():\n",
    "    def __init__(self, capacity, fillValue = None):\n",
    "        self._items = list()\n",
    "        for count in range(capacity): \n",
    "            self._items.append(fillValue)\n",
    "    def __len__(self):\n",
    "        return len(self._items)  \n",
    "    def __str__(self):\n",
    "        return str(self._items)\n",
    "    def __iter__(self):\n",
    "        return iter(self._items)\n",
    "    def __getitem__(self, index):\n",
    "        return self._items[index]\n",
    "    def __setitem__(self, index, newItem):\n",
    "        self._items[index] = newItem\n",
    "```\n"
   ]
  },
  {
   "cell_type": "code",
   "execution_count": 21,
   "metadata": {
    "colab": {
     "base_uri": "https://localhost:8080/"
    },
    "execution": {
     "iopub.execute_input": "2022-06-02T20:43:50.207Z",
     "iopub.status.busy": "2022-06-02T20:43:50.200Z",
     "iopub.status.idle": "2022-06-02T20:43:50.215Z",
     "shell.execute_reply": "2022-06-02T20:43:50.020Z"
    },
    "id": "WijJ5QqlySxQ",
    "outputId": "6380b102-6c22-4514-f109-2b83d8be4b90"
   },
   "outputs": [
    {
     "name": "stdout",
     "output_type": "stream",
     "text": [
      "None None None \n",
      "None None None None \n",
      "None None None None None None \n",
      "None \n",
      "\n"
     ]
    }
   ],
   "source": [
    "class iArray():\n",
    "    def __init__(self, capacity, fillValue = None):\n",
    "        self._items = list()\n",
    "        for count in range(capacity): \n",
    "            self._items.append(fillValue)\n",
    "    def __len__(self):\n",
    "        return len(self._items)  \n",
    "    def __str__(self):\n",
    "        return str(self._items)\n",
    "    def __iter__(self):\n",
    "        return iter(self._items)\n",
    "    def __getitem__(self, index):\n",
    "        return self._items[index]\n",
    "    def __setitem__(self, index, newItem):\n",
    "        self._items[index] = newItem\n",
    "\n",
    "class rGrid():\n",
    "  def __init__(self, fillValue = None):\n",
    "    self._data = iArray(4)\n",
    "    \n",
    "    self._data[0] = iArray(3, fillValue)\n",
    "    self._data[1] = iArray(4, fillValue)\n",
    "    self._data[2] = iArray(6, fillValue)\n",
    "    self._data[3] = iArray(1, fillValue)\n",
    "\n",
    "  def __str__(self):\n",
    "    result = ''\n",
    "\n",
    "    for row in range(len(self._data)):\n",
    "      for col in range(len(self._data[row])):\n",
    "        result += str(self._data[row][col]) + ' '\n",
    "      result += '\\n'\n",
    "    return result\n",
    "\n",
    "a = rGrid()\n",
    "print(str(a))"
   ]
  },
  {
   "cell_type": "markdown",
   "metadata": {
    "id": "e244Y9zXy2Jo"
   },
   "source": [
    "\n",
    "**b)** **[15 pts]** Write an algorithm to create and display a two-dimensional array or a regular Grid of three rows and four columns. The Grid's elements are selected randomly from an inclusive interval of `[-100, 100]`. You can install and use any standard or third-party library to report your answer to this question."
   ]
  },
  {
   "cell_type": "code",
   "execution_count": 22,
   "metadata": {
    "colab": {
     "base_uri": "https://localhost:8080/"
    },
    "execution": {
     "iopub.execute_input": "2022-06-02T20:43:50.236Z",
     "iopub.status.busy": "2022-06-02T20:43:50.227Z",
     "iopub.status.idle": "2022-06-02T20:43:50.246Z",
     "shell.execute_reply": "2022-06-02T20:43:50.030Z"
    },
    "id": "fk4bxh5hw-ap",
    "outputId": "769b1a50-ef5a-47f8-bbda-5eb080ebb3fd"
   },
   "outputs": [
    {
     "name": "stdout",
     "output_type": "stream",
     "text": [
      "-60\t-39\t95\t79\t\n",
      "4\t-99\t-86\t-78\t\n",
      "-40\t88\t82\t-11\t\n",
      "\n"
     ]
    }
   ],
   "source": [
    "import numpy as np\n",
    "\n",
    "class iArray():\n",
    "    def __init__(self, capacity, fillValue = None):\n",
    "        self._items = list()\n",
    "        for count in range(capacity): \n",
    "            self._items.append(fillValue)\n",
    "    def __len__(self):\n",
    "        return len(self._items)  \n",
    "    def __str__(self):\n",
    "        return str(self._items)\n",
    "    def __iter__(self):\n",
    "        return iter(self._items)\n",
    "    def __getitem__(self, index):\n",
    "        return self._items[index]\n",
    "    def __setitem__(self, index, newItem):\n",
    "        self._items[index] = newItem\n",
    "\n",
    "class regGrid():\n",
    "  def __init__(self, rows, columns, fillValue = None):\n",
    "    self._data = iArray(rows)\n",
    "    for row in range(rows):\n",
    "      self._data[row] = iArray(columns)\n",
    "      for column in range(columns):\n",
    "        self._data[row][column]=np.random.randint(-100,100)\n",
    "\n",
    "  def __str__(self):\n",
    "    result = ''\n",
    "\n",
    "    for row in range(len(self._data)):\n",
    "      for col in range(len(self._data[row])):\n",
    "        result += str(self._data[row][col]) + '\\t'\n",
    "      result += '\\n'\n",
    "    return result\n",
    "\n",
    "a=regGrid(3,4)\n",
    "print(str(a))"
   ]
  },
  {
   "cell_type": "markdown",
   "metadata": {
    "id": "JOHDZruJzNcd"
   },
   "source": [
    "**c) BONUS [10 pts]** \n",
    "Define and implement a [Double-ended queue](https://en.wikipedia.org/wiki/Queue_(abstract_data_type)) (Deque) ADT. The Deque is a sequence of items where addtions and deletions of items can be done at both ends of the sequence.  The Deque can be implemnted using the iArray ADT with the following methods: \n",
    "``` \n",
    "constructor, append_left, append_right, pop_left, pop_right, peek_left, peek_right, __len__, and __str__.\n",
    "```\n",
    "\n",
    "```\n",
    "class Deque(iArray):\n",
    "  def __init__(self, capacity = 10):\n",
    "    #INSERT YOUR ANSWER HERE.\n",
    "  \n",
    "  def append_left(self, newItem):\n",
    "    #INSERT YOUR ANSWER HERE.\n",
    "  \n",
    "  def append_right(self, newItem):  \n",
    "    #INSERT YOUR ANSWER HERE.\n",
    "  \n",
    "  def pop_left(self):\n",
    "    #INSERT YOUR ANSWER HERE.\n",
    "  \n",
    "  def pop_right(self):\n",
    "    #INSERT YOUR ANSWER HERE.\n",
    "  \n",
    "  def peek_left(self):\n",
    "    #INSERT YOUR ANSWER HERE.\n",
    "  \n",
    "  def peek_right(self):\n",
    "    #INSERT YOUR ANSWER HERE.\n",
    "  \n",
    "  def __len__(self):\n",
    "    #INSERT YOUR ANSWER HERE.\n",
    "  \n",
    "  def __str__(self):\n",
    "    #INSERT YOUR ANSWER HERE.\n",
    "```"
   ]
  },
  {
   "cell_type": "code",
   "execution_count": 18,
   "metadata": {
    "colab": {
     "base_uri": "https://localhost:8080/"
    },
    "execution": {
     "iopub.execute_input": "2022-06-02T20:43:50.263Z",
     "iopub.status.busy": "2022-06-02T20:43:50.256Z",
     "iopub.status.idle": "2022-06-02T20:43:50.272Z",
     "shell.execute_reply": "2022-06-02T20:43:50.039Z"
    },
    "id": "4wqA5wHD07xS",
    "outputId": "16206e48-6281-4102-a318-d6d56ce68045"
   },
   "outputs": [
    {
     "name": "stdout",
     "output_type": "stream",
     "text": [
      "Using Append Left\n",
      "2 1  \n",
      "\n",
      "Using Append Right\n",
      "2 1 3 4  \n",
      "\n",
      "Using Pop Left\n",
      "2 \n",
      "\n",
      "Using Pop Right\n",
      "4 \n",
      "\n",
      "Using Peek Left\n",
      "1 \n",
      "\n",
      "Using Peek Right\n",
      "3 \n",
      "\n",
      "Using Len Method\n",
      "2 \n",
      "\n",
      "Using Str Method\n",
      "1 3  \n",
      "\n"
     ]
    }
   ],
   "source": [
    "class iArray():\n",
    "    def __init__(self, capacity, fillValue = None):\n",
    "        self._items = list()\n",
    "        for count in range(capacity): \n",
    "            self._items.append(fillValue)\n",
    "    def __len__(self):\n",
    "        return len(self._items)  \n",
    "    def __str__(self):\n",
    "        return str(self._items)\n",
    "    def __iter__(self):\n",
    "        return iter(self._items)\n",
    "    def __getitem__(self, index):\n",
    "        return self._items[index]\n",
    "    def __setitem__(self, index, newItem):\n",
    "        self._items[index] = newItem\n",
    "\n",
    "class Deque(iArray):\n",
    "  def __init__(self, capacity = 10):\n",
    "    self._items = iArray(capacity)\n",
    "    self._rear = -1\n",
    "    self._size = 0\n",
    "\n",
    "  def append_left(self, newItem):\n",
    "    self._rear += 1\n",
    "    self._size += 1\n",
    "    temp = []\n",
    "    temp.append(newItem)\n",
    "    for i in range(len(self._items)-1):\n",
    "      temp.append(self._items[i])\n",
    "    self._items=temp\n",
    "\n",
    "  def append_right(self, newItem):\n",
    "    self._rear += 1\n",
    "    self._size += 1\n",
    "    self._items[self._rear] = newItem\n",
    "\n",
    "  def pop_left(self):\n",
    "    oldItem = self._items[0]\n",
    "    for i in range(len(self) - 1):\n",
    "      self._items[i] = self._items[i + 1]\n",
    "      self._items[i + 1] = None\n",
    "    self._rear -= 1\n",
    "    self._size -= 1\n",
    "    return oldItem\n",
    "\n",
    "  def pop_right(self):\n",
    "    oldItem = self._items[self._rear]\n",
    "    self._items[self._rear] = None\n",
    "    self._rear -= 1\n",
    "    self._size -= 1\n",
    "    return oldItem\n",
    "\n",
    "  def peek_left(self):\n",
    "    return self._items[0]\n",
    "\n",
    "  def peek_right(self):\n",
    "    return self._items[self._rear]\n",
    "\n",
    "  def __len__(self):\n",
    "    return self._size\n",
    "\n",
    "  def __str__(self):\n",
    "    result = ''\n",
    "    for i in range(len(self)):\n",
    "      result += str(self._items[i]) + ' '\n",
    "    return result\n",
    "\n",
    "d=Deque()\n",
    "\n",
    "print(\"Using Append Left\")\n",
    "d.append_left(1)\n",
    "d.append_left(2)\n",
    "print(d,\"\\n\")\n",
    "\n",
    "print(\"Using Append Right\")\n",
    "d.append_right(3)\n",
    "d.append_right(4)\n",
    "print(d,\"\\n\")\n",
    "\n",
    "print(\"Using Pop Left\")\n",
    "print(d.pop_left(),\"\\n\")\n",
    "\n",
    "print(\"Using Pop Right\")\n",
    "print(d.pop_right(),\"\\n\")\n",
    "\n",
    "print(\"Using Peek Left\")\n",
    "print(d.peek_left(),\"\\n\")\n",
    "\n",
    "print(\"Using Peek Right\")\n",
    "print(d.peek_right(),\"\\n\")\n",
    "\n",
    "print(\"Using Len Method\")\n",
    "print(len(d),\"\\n\")\n",
    "\n",
    "print(\"Using Str Method\")\n",
    "print(str(d),\"\\n\")"
   ]
  },
  {
   "cell_type": "markdown",
   "metadata": {
    "id": "0kQIsm9gAS21"
   },
   "source": [
    "*****"
   ]
  },
  {
   "cell_type": "markdown",
   "metadata": {
    "id": "7vRukEN2JfGX"
   },
   "source": [
    "#### This is the end of assignment 3"
   ]
  }
 ],
 "metadata": {
  "colab": {
   "collapsed_sections": [],
   "name": "CIND830_S22_Assignment3_Q.ipynb",
   "provenance": [],
   "toc_visible": true
  },
  "kernelspec": {
   "display_name": "Python 3 (ipykernel)",
   "language": "python",
   "name": "python3"
  },
  "language_info": {
   "codemirror_mode": {
    "name": "ipython",
    "version": 3
   },
   "file_extension": ".py",
   "mimetype": "text/x-python",
   "name": "python",
   "nbconvert_exporter": "python",
   "pygments_lexer": "ipython3",
   "version": "3.9.7"
  },
  "nteract": {
   "version": "0.28.0"
  },
  "varInspector": {
   "cols": {
    "lenName": 16,
    "lenType": 16,
    "lenVar": 40
   },
   "kernels_config": {
    "python": {
     "delete_cmd_postfix": "",
     "delete_cmd_prefix": "del ",
     "library": "var_list.py",
     "varRefreshCmd": "print(var_dic_list())"
    },
    "r": {
     "delete_cmd_postfix": ") ",
     "delete_cmd_prefix": "rm(",
     "library": "var_list.r",
     "varRefreshCmd": "cat(var_dic_list()) "
    }
   },
   "types_to_exclude": [
    "module",
    "function",
    "builtin_function_or_method",
    "instance",
    "_Feature"
   ],
   "window_display": false
  }
 },
 "nbformat": 4,
 "nbformat_minor": 1
}
